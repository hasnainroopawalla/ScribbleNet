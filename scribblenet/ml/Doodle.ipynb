{
 "cells": [
  {
   "cell_type": "markdown",
   "metadata": {
    "colab_type": "text",
    "id": "WVw_3p-alvaJ"
   },
   "source": [
    "## Import all necessary libraries"
   ]
  },
  {
   "cell_type": "code",
   "execution_count": 10,
   "metadata": {
    "colab": {
     "base_uri": "https://localhost:8080/",
     "height": 204
    },
    "colab_type": "code",
    "id": "X2Q1QFIYDJWE",
    "outputId": "233e35e6-461e-49d4-bda7-044a556be757"
   },
   "outputs": [],
   "source": [
    "import numpy as np\n",
    "from tensorflow.keras import layers\n",
    "from tensorflow import keras \n",
    "import tensorflow as tf\n",
    "import matplotlib.pyplot as plt\n",
    "from random import randint\n",
    "\n",
    "\n",
    "from scribblenet.ml.utils import load_classes, load_dataset, download_dataset\n",
    "from scribblenet.preprocessing import PreProcessor"
   ]
  },
  {
   "cell_type": "markdown",
   "metadata": {},
   "source": [
    "## Load the dataset"
   ]
  },
  {
   "cell_type": "markdown",
   "metadata": {},
   "source": [
    "### Load class names"
   ]
  },
  {
   "cell_type": "code",
   "execution_count": 11,
   "metadata": {
    "colab": {
     "base_uri": "https://localhost:8080/",
     "height": 54
    },
    "colab_type": "code",
    "id": "8IAKpXQNDkMB",
    "outputId": "5f8cfbf8-5d5b-48a8-946d-b370b3f869ef"
   },
   "outputs": [
    {
     "name": "stdout",
     "output_type": "stream",
     "text": [
      "['airplane', 'alarm_clock', 'anvil', 'apple', 'axe', 'baseball', 'baseball_bat', 'basketball', 'beard', 'bed', 'bench', 'bicycle', 'bird', 'book', 'bread', 'bridge', 'broom', 'butterfly', 'camera', 'candle', 'car', 'cat', 'ceiling_fan', 'cell_phone', 'chair', 'circle', 'clock', 'cloud', 'coffee_cup', 'cookie', 'cup', 'diving_board', 'donut', 'door', 'drums', 'dumbbell', 'envelope', 'eye', 'eyeglasses', 'face', 'fan', 'flower', 'frying_pan', 'grapes', 'hammer', 'hat', 'headphones', 'helmet', 'hot_dog', 'ice_cream', 'key', 'knife', 'ladder', 'laptop', 'light_bulb', 'lightning', 'line', 'lollipop', 'microphone', 'moon', 'mountain', 'moustache', 'mushroom', 'pants', 'paper_clip', 'pencil', 'pillow', 'pizza', 'power_outlet', 'radio', 'rainbow', 'rifle', 'saw', 'scissors', 'screwdriver', 'shorts', 'shovel', 'smiley_face', 'snake', 'sock', 'spider', 'spoon', 'square', 'star', 'stop_sign', 'suitcase', 'sun', 'sword', 'syringe', 't-shirt', 'table', 'tennis_racquet', 'tent', 'tooth', 'traffic_light', 'tree', 'triangle', 'umbrella', 'wheel', 'wristwatch']\n"
     ]
    }
   ],
   "source": [
    "class_names = load_classes('100')\n",
    "print(class_names)"
   ]
  },
  {
   "cell_type": "markdown",
   "metadata": {},
   "source": [
    "### Download the dataset"
   ]
  },
  {
   "cell_type": "code",
   "execution_count": null,
   "metadata": {},
   "outputs": [],
   "source": [
    "download_dataset(class_names)"
   ]
  },
  {
   "cell_type": "markdown",
   "metadata": {},
   "source": [
    "### Load the dataset"
   ]
  },
  {
   "cell_type": "code",
   "execution_count": 12,
   "metadata": {
    "colab": {},
    "colab_type": "code",
    "id": "pSy1Fzs_FQd7"
   },
   "outputs": [
    {
     "name": "stderr",
     "output_type": "stream",
     "text": [
      "100%|██████████| 100/100 [00:04<00:00, 24.21it/s]\n"
     ]
    }
   ],
   "source": [
    "X_train, y_train, X_test, y_test = load_dataset(num_samples_per_class=16000)"
   ]
  },
  {
   "cell_type": "markdown",
   "metadata": {
    "colab_type": "text",
    "id": "NjuKDVNwrtV5"
   },
   "source": [
    "### Visualize a random sample from the training set"
   ]
  },
  {
   "cell_type": "code",
   "execution_count": 14,
   "metadata": {
    "colab": {
     "base_uri": "https://localhost:8080/",
     "height": 282
    },
    "colab_type": "code",
    "id": "kc_0-oiWGxDg",
    "outputId": "9b135fbc-63a6-4294-b2b0-0207eb600b50"
   },
   "outputs": [
    {
     "name": "stdout",
     "output_type": "stream",
     "text": [
      "bench\n"
     ]
    },
    {
     "data": {
      "image/png": "[encoded data removed]",
      "text/plain": [
       "<Figure size 432x288 with 1 Axes>"
      ]
     },
     "metadata": {
      "needs_background": "light"
     },
     "output_type": "display_data"
    }
   ],
   "source": [
    "%matplotlib inline  \n",
    "idx = randint(0, len(X_train))\n",
    "plt.imshow(X_train[idx].reshape(28, 28)) \n",
    "print(class_names[int(y_train[idx].item())])"
   ]
  },
  {
   "cell_type": "markdown",
   "metadata": {
    "colab_type": "text",
    "id": "RdXwziDSr6ip"
   },
   "source": [
    "## Preprocessing"
   ]
  },
  {
   "cell_type": "code",
   "execution_count": 15,
   "metadata": {},
   "outputs": [
    {
     "name": "stdout",
     "output_type": "stream",
     "text": [
      "X_train: (13400, 28, 28, 1), X_test: (6600, 28, 28, 1), y_train: (13400, 100), y_test: (6600, 100)\n"
     ]
    }
   ],
   "source": [
    "P = PreProcessor()\n",
    "X_train, X_test, y_train, y_test = P.train_preprocess(X_train, X_test, y_train, y_test)\n",
    "print(f'X_train: {X_train.shape}, X_test: {X_test.shape}, y_train: {y_train.shape}, y_test: {y_test.shape}')"
   ]
  },
  {
   "cell_type": "markdown",
   "metadata": {
    "colab_type": "text",
    "id": "WXqwoZVqsBn7"
   },
   "source": [
    "## Training"
   ]
  },
  {
   "cell_type": "markdown",
   "metadata": {},
   "source": [
    "### Model definition"
   ]
  },
  {
   "cell_type": "code",
   "execution_count": 16,
   "metadata": {
    "colab": {
     "base_uri": "https://localhost:8080/",
     "height": 476
    },
    "colab_type": "code",
    "id": "PCPYXLZ_G6V2",
    "outputId": "b088900e-cde0-409a-eadd-622f81625ef3"
   },
   "outputs": [
    {
     "name": "stdout",
     "output_type": "stream",
     "text": [
      "Model: \"sequential_1\"\n",
      "_________________________________________________________________\n",
      " Layer (type)                Output Shape              Param #   \n",
      "=================================================================\n",
      " conv2d_3 (Conv2D)           (None, 28, 28, 16)        160       \n",
      "                                                                 \n",
      " max_pooling2d_3 (MaxPooling  (None, 14, 14, 16)       0         \n",
      " 2D)                                                             \n",
      "                                                                 \n",
      " conv2d_4 (Conv2D)           (None, 14, 14, 32)        4640      \n",
      "                                                                 \n",
      " max_pooling2d_4 (MaxPooling  (None, 7, 7, 32)         0         \n",
      " 2D)                                                             \n",
      "                                                                 \n",
      " conv2d_5 (Conv2D)           (None, 7, 7, 64)          18496     \n",
      "                                                                 \n",
      " max_pooling2d_5 (MaxPooling  (None, 3, 3, 64)         0         \n",
      " 2D)                                                             \n",
      "                                                                 \n",
      " flatten_1 (Flatten)         (None, 576)               0         \n",
      "                                                                 \n",
      " dense_2 (Dense)             (None, 128)               73856     \n",
      "                                                                 \n",
      " dense_3 (Dense)             (None, 100)               12900     \n",
      "                                                                 \n",
      "=================================================================\n",
      "Total params: 110,052\n",
      "Trainable params: 110,052\n",
      "Non-trainable params: 0\n",
      "_________________________________________________________________\n",
      "None\n"
     ]
    }
   ],
   "source": [
    "model = keras.Sequential()\n",
    "model.add(layers.Convolution2D(16, (3, 3),\n",
    "                        padding='same',\n",
    "                        input_shape=X_train.shape[1:], activation='relu'))\n",
    "model.add(layers.MaxPooling2D(pool_size=(2, 2)))\n",
    "model.add(layers.Convolution2D(32, (3, 3), padding='same', activation= 'relu'))\n",
    "model.add(layers.MaxPooling2D(pool_size=(2, 2)))\n",
    "model.add(layers.Convolution2D(64, (3, 3), padding='same', activation= 'relu'))\n",
    "model.add(layers.MaxPooling2D(pool_size =(2,2)))\n",
    "model.add(layers.Flatten())\n",
    "model.add(layers.Dense(128, activation='relu'))\n",
    "model.add(layers.Dense(100, activation='softmax'))  # The number here should be equal to number of classes\n",
    "\n",
    "opt = tf.keras.optimizers.Adam(lr=0.001)\n",
    "model.compile(loss='categorical_crossentropy',\n",
    "              optimizer=opt,\n",
    "              metrics=['top_k_categorical_accuracy'])\n",
    "print(model.summary())"
   ]
  },
  {
   "cell_type": "markdown",
   "metadata": {
    "colab_type": "text",
    "id": "Gdotnt7vsJCf"
   },
   "source": [
    "### Training the model"
   ]
  },
  {
   "cell_type": "code",
   "execution_count": 17,
   "metadata": {
    "colab": {
     "base_uri": "https://localhost:8080/",
     "height": 391
    },
    "colab_type": "code",
    "id": "lIIFyYZbG81y",
    "outputId": "5d88425d-1b5e-4440-aaf0-5c2370cfe502"
   },
   "outputs": [
    {
     "name": "stdout",
     "output_type": "stream",
     "text": [
      "Epoch 1/10\n",
      "48/48 [==============================] - 2s 30ms/step - loss: 4.3142 - top_k_categorical_accuracy: 0.1821 - val_loss: 3.6881 - val_top_k_categorical_accuracy: 0.3731\n",
      "Epoch 2/10\n",
      "48/48 [==============================] - 1s 28ms/step - loss: 3.2444 - top_k_categorical_accuracy: 0.5017 - val_loss: 3.0138 - val_top_k_categorical_accuracy: 0.5701\n",
      "Epoch 3/10\n",
      "48/48 [==============================] - 1s 29ms/step - loss: 2.7316 - top_k_categorical_accuracy: 0.6339 - val_loss: 2.7160 - val_top_k_categorical_accuracy: 0.6381\n",
      "Epoch 4/10\n",
      "48/48 [==============================] - 1s 29ms/step - loss: 2.4403 - top_k_categorical_accuracy: 0.7044 - val_loss: 2.4620 - val_top_k_categorical_accuracy: 0.7104\n",
      "Epoch 5/10\n",
      "48/48 [==============================] - 1s 29ms/step - loss: 2.2083 - top_k_categorical_accuracy: 0.7514 - val_loss: 2.3349 - val_top_k_categorical_accuracy: 0.7291\n",
      "Epoch 6/10\n",
      "48/48 [==============================] - 1s 30ms/step - loss: 2.0207 - top_k_categorical_accuracy: 0.7858 - val_loss: 2.2439 - val_top_k_categorical_accuracy: 0.7664\n",
      "Epoch 7/10\n",
      "48/48 [==============================] - 1s 30ms/step - loss: 1.8803 - top_k_categorical_accuracy: 0.8070 - val_loss: 2.1708 - val_top_k_categorical_accuracy: 0.7731\n",
      "Epoch 8/10\n",
      "48/48 [==============================] - 2s 32ms/step - loss: 1.7625 - top_k_categorical_accuracy: 0.8254 - val_loss: 2.0552 - val_top_k_categorical_accuracy: 0.7881\n",
      "Epoch 9/10\n",
      "48/48 [==============================] - 1s 31ms/step - loss: 1.6604 - top_k_categorical_accuracy: 0.8383 - val_loss: 2.0372 - val_top_k_categorical_accuracy: 0.7933\n",
      "Epoch 10/10\n",
      "48/48 [==============================] - 1s 31ms/step - loss: 1.5657 - top_k_categorical_accuracy: 0.8518 - val_loss: 1.9869 - val_top_k_categorical_accuracy: 0.7918\n"
     ]
    },
    {
     "data": {
      "text/plain": [
       "<keras.callbacks.History at 0x16bbb41f0>"
      ]
     },
     "execution_count": 17,
     "metadata": {},
     "output_type": "execute_result"
    }
   ],
   "source": [
    "model.fit(x = X_train, y = y_train, validation_split=0.1, batch_size = 256, verbose=1, epochs=10)"
   ]
  },
  {
   "cell_type": "markdown",
   "metadata": {},
   "source": [
    "## Evaluation"
   ]
  },
  {
   "cell_type": "markdown",
   "metadata": {},
   "source": [
    "### Evaluate Test Score"
   ]
  },
  {
   "cell_type": "code",
   "execution_count": 18,
   "metadata": {
    "colab": {
     "base_uri": "https://localhost:8080/",
     "height": 34
    },
    "colab_type": "code",
    "id": "tGz1C7ILHMG2",
    "outputId": "ca4a4a26-65ca-460d-efa9-5f05a19c425e"
   },
   "outputs": [
    {
     "name": "stdout",
     "output_type": "stream",
     "text": [
      "Test accuarcy: 80.24%\n"
     ]
    }
   ],
   "source": [
    "score = model.evaluate(X_test, y_test, verbose=0)\n",
    "print('Test accuarcy: {:0.2f}%'.format(score[1] * 100))"
   ]
  },
  {
   "cell_type": "markdown",
   "metadata": {
    "colab_type": "text",
    "id": "t9kBq83g9WNT"
   },
   "source": [
    "### Random test image and predicted class"
   ]
  },
  {
   "cell_type": "code",
   "execution_count": 21,
   "metadata": {
    "colab": {
     "base_uri": "https://localhost:8080/",
     "height": 282
    },
    "colab_type": "code",
    "id": "hrKVB4dyHTi_",
    "outputId": "44592478-fbe1-46e6-9b20-ef013e6da1be"
   },
   "outputs": [
    {
     "name": "stdout",
     "output_type": "stream",
     "text": [
      "['sword', 'syringe', 'snake', 'eyeglasses', 'pencil']\n"
     ]
    },
    {
     "data": {
      "image/png": "[encoded data removed]",
      "text/plain": [
       "<Figure size 432x288 with 1 Axes>"
      ]
     },
     "metadata": {
      "needs_background": "light"
     },
     "output_type": "display_data"
    }
   ],
   "source": [
    "import matplotlib.pyplot as plt\n",
    "from random import randint\n",
    "%matplotlib inline  \n",
    "idx = randint(0, len(X_test))\n",
    "img = X_test[idx]\n",
    "plt.imshow(img.squeeze(),cmap='Greys_r') \n",
    "pred = model.predict(np.expand_dims(img, axis=0))[0]\n",
    "ind = (-pred).argsort()[:5]\n",
    "print([class_names[x] for x in ind])"
   ]
  },
  {
   "cell_type": "markdown",
   "metadata": {},
   "source": [
    "## Save the trained model"
   ]
  },
  {
   "cell_type": "code",
   "execution_count": null,
   "metadata": {
    "colab": {},
    "colab_type": "code",
    "id": "u0CrQiDcHrvY"
   },
   "outputs": [],
   "source": [
    "model.save('trained_model.h5')"
   ]
  }
 ],
 "metadata": {
  "accelerator": "GPU",
  "colab": {
   "collapsed_sections": [
    "TPwIaPCdLH35"
   ],
   "include_colab_link": true,
   "machine_shape": "hm",
   "name": "Doodle.ipynb",
   "provenance": [],
   "toc_visible": true
  },
  "kernelspec": {
   "display_name": "Python 3",
   "language": "python",
   "name": "python3"
  },
  "language_info": {
   "codemirror_mode": {
    "name": "ipython",
    "version": 3
   },
   "file_extension": ".py",
   "mimetype": "text/x-python",
   "name": "python",
   "nbconvert_exporter": "python",
   "pygments_lexer": "ipython3",
   "version": "3.9.9"
  }
 },
 "nbformat": 4,
 "nbformat_minor": 1
}
