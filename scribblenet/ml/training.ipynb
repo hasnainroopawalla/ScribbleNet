{
  "cells": [
    {
      "cell_type": "markdown",
      "metadata": {},
      "source": [
        "> ### Run the following cell if you're running this on Google Colab."
      ]
    },
    {
      "cell_type": "code",
      "execution_count": 1,
      "metadata": {
        "colab": {
          "base_uri": "https://localhost:8080/"
        },
        "id": "rUINI2DtfC9h",
        "outputId": "377e065a-3663-4394-f2eb-3fd859d1de88"
      },
      "outputs": [
        {
          "name": "stdout",
          "output_type": "stream",
          "text": [
            "Cloning into 'ScribbleNet'...\n",
            "remote: Enumerating objects: 498, done.\u001b[K\n",
            "remote: Counting objects: 100% (235/235), done.\u001b[K\n",
            "remote: Compressing objects: 100% (166/166), done.\u001b[K\n",
            "remote: Total 498 (delta 114), reused 157 (delta 48), pack-reused 263\u001b[K\n",
            "Receiving objects: 100% (498/498), 51.81 MiB | 29.18 MiB/s, done.\n",
            "Resolving deltas: 100% (224/224), done.\n"
          ]
        }
      ],
      "source": [
        "!git clone https://github.com/hasnainroopawalla/ScribbleNet.git -b update-readme\n",
        "\n",
        "import sys\n",
        "sys.path.insert(0, '/content/ScribbleNet') "
      ]
    },
    {
      "cell_type": "markdown",
      "metadata": {
        "id": "WVw_3p-alvaJ"
      },
      "source": [
        "## Import all necessary libraries"
      ]
    },
    {
      "cell_type": "code",
      "execution_count": 2,
      "metadata": {
        "id": "X2Q1QFIYDJWE"
      },
      "outputs": [],
      "source": [
        "import numpy as np\n",
        "from tensorflow.keras import layers\n",
        "from tensorflow import keras \n",
        "import tensorflow as tf\n",
        "import matplotlib.pyplot as plt\n",
        "from random import randint\n",
        "\n",
        "from scribblenet.ml.utils import load_classes, load_dataset, download_dataset\n",
        "from scribblenet.preprocessing import PreProcessor"
      ]
    },
    {
      "cell_type": "markdown",
      "metadata": {
        "id": "qSRhSbpfeUX2"
      },
      "source": [
        "## Load the dataset"
      ]
    },
    {
      "cell_type": "markdown",
      "metadata": {
        "id": "rJB7jGdjeUX2"
      },
      "source": [
        "### Load class names"
      ]
    },
    {
      "cell_type": "code",
      "execution_count": 3,
      "metadata": {
        "colab": {
          "base_uri": "https://localhost:8080/"
        },
        "id": "8IAKpXQNDkMB",
        "outputId": "d13f85f6-9f9f-45e4-dd97-c829ad1ec16e"
      },
      "outputs": [
        {
          "name": "stdout",
          "output_type": "stream",
          "text": [
            "['airplane', 'alarm_clock', 'anvil', 'apple', 'axe', 'baseball', 'baseball_bat', 'basketball', 'beard', 'bed', 'bench', 'bicycle', 'bird', 'book', 'bread', 'bridge', 'broom', 'butterfly', 'camera', 'candle', 'car', 'cat', 'ceiling_fan', 'cell_phone', 'chair', 'circle', 'clock', 'cloud', 'coffee_cup', 'cookie', 'cup', 'diving_board', 'donut', 'door', 'drums', 'dumbbell', 'envelope', 'eye', 'eyeglasses', 'face', 'fan', 'flower', 'frying_pan', 'grapes', 'hammer', 'hat', 'headphones', 'helmet', 'hot_dog', 'ice_cream', 'key', 'knife', 'ladder', 'laptop', 'light_bulb', 'lightning', 'line', 'lollipop', 'microphone', 'moon', 'mountain', 'moustache', 'mushroom', 'pants', 'paper_clip', 'pencil', 'pillow', 'pizza', 'power_outlet', 'radio', 'rainbow', 'rifle', 'saw', 'scissors', 'screwdriver', 'shorts', 'shovel', 'smiley_face', 'snake', 'sock', 'spider', 'spoon', 'square', 'star', 'stop_sign', 'suitcase', 'sun', 'sword', 'syringe', 't-shirt', 'table', 'tennis_racquet', 'tent', 'tooth', 'traffic_light', 'tree', 'triangle', 'umbrella', 'wheel', 'wristwatch']\n"
          ]
        }
      ],
      "source": [
        "class_names = load_classes('100')\n",
        "print(class_names)"
      ]
    },
    {
      "cell_type": "markdown",
      "metadata": {
        "id": "S6tCNtjIeUX4"
      },
      "source": [
        "### Download the dataset"
      ]
    },
    {
      "cell_type": "code",
      "execution_count": 4,
      "metadata": {
        "colab": {
          "base_uri": "https://localhost:8080/"
        },
        "id": "mWDbhAbxeUX5",
        "outputId": "8587a32a-bc0d-437c-b8e5-573d8870320c"
      },
      "outputs": [
        {
          "name": "stderr",
          "output_type": "stream",
          "text": [
            "100%|██████████| 100/100 [03:56<00:00,  2.37s/it]\n"
          ]
        }
      ],
      "source": [
        "download_dataset(class_names)"
      ]
    },
    {
      "cell_type": "markdown",
      "metadata": {
        "id": "UQhLGP_qeUX6"
      },
      "source": [
        "### Load the dataset"
      ]
    },
    {
      "cell_type": "code",
      "execution_count": 5,
      "metadata": {
        "colab": {
          "base_uri": "https://localhost:8080/"
        },
        "id": "pSy1Fzs_FQd7",
        "outputId": "4920aeb9-ea2e-45a7-90a4-97befb88da49"
      },
      "outputs": [
        {
          "name": "stderr",
          "output_type": "stream",
          "text": [
            "100%|██████████| 100/100 [03:55<00:00,  2.36s/it]\n"
          ]
        }
      ],
      "source": [
        "X_train, y_train, X_test, y_test = load_dataset()"
      ]
    },
    {
      "cell_type": "markdown",
      "metadata": {
        "id": "NjuKDVNwrtV5"
      },
      "source": [
        "### Visualize a random sample from the training set"
      ]
    },
    {
      "cell_type": "code",
      "execution_count": 11,
      "metadata": {
        "colab": {
          "base_uri": "https://localhost:8080/",
          "height": 282
        },
        "id": "kc_0-oiWGxDg",
        "outputId": "627c1dab-fa83-4c76-e419-2003d240c49d"
      },
      "outputs": [
        {
          "name": "stdout",
          "output_type": "stream",
          "text": [
            "wheel\n"
          ]
        },
        {
          "data": {
            "image/png": "[encoded data removed]",
            "text/plain": [
              "<Figure size 432x288 with 1 Axes>"
            ]
          },
          "metadata": {
            "needs_background": "light"
          },
          "output_type": "display_data"
        }
      ],
      "source": [
        "%matplotlib inline  \n",
        "idx = randint(0, len(X_train))\n",
        "plt.imshow(X_train[idx].reshape(28, 28)) \n",
        "print(class_names[int(y_train[idx].item())])"
      ]
    },
    {
      "cell_type": "markdown",
      "metadata": {
        "id": "RdXwziDSr6ip"
      },
      "source": [
        "## Preprocessing"
      ]
    },
    {
      "cell_type": "code",
      "execution_count": 12,
      "metadata": {
        "colab": {
          "base_uri": "https://localhost:8080/"
        },
        "id": "BOSH9HuJeUX9",
        "outputId": "23155575-5e07-4f75-c806-9450b203644c"
      },
      "outputs": [
        {
          "name": "stdout",
          "output_type": "stream",
          "text": [
            "X_train: (1072000, 28, 28, 1), X_test: (528000, 28, 28, 1), y_train: (1072000, 100), y_test: (528000, 100)\n"
          ]
        }
      ],
      "source": [
        "P = PreProcessor()\n",
        "X_train, X_test, y_train, y_test = P.train_preprocess(X_train, X_test, y_train, y_test)\n",
        "print(f'X_train: {X_train.shape}, X_test: {X_test.shape}, y_train: {y_train.shape}, y_test: {y_test.shape}')"
      ]
    },
    {
      "cell_type": "markdown",
      "metadata": {
        "id": "WXqwoZVqsBn7"
      },
      "source": [
        "## Training"
      ]
    },
    {
      "cell_type": "markdown",
      "metadata": {
        "id": "9VItZPkleUX9"
      },
      "source": [
        "### Model definition"
      ]
    },
    {
      "cell_type": "code",
      "execution_count": 13,
      "metadata": {
        "colab": {
          "base_uri": "https://localhost:8080/"
        },
        "id": "PCPYXLZ_G6V2",
        "outputId": "e5bd2460-0d51-430f-b5a3-2eba8d0753d6"
      },
      "outputs": [
        {
          "name": "stdout",
          "output_type": "stream",
          "text": [
            "Model: \"sequential\"\n",
            "_________________________________________________________________\n",
            " Layer (type)                Output Shape              Param #   \n",
            "=================================================================\n",
            " conv2d (Conv2D)             (None, 28, 28, 16)        160       \n",
            "                                                                 \n",
            " max_pooling2d (MaxPooling2D  (None, 14, 14, 16)       0         \n",
            " )                                                               \n",
            "                                                                 \n",
            " conv2d_1 (Conv2D)           (None, 14, 14, 32)        4640      \n",
            "                                                                 \n",
            " max_pooling2d_1 (MaxPooling  (None, 7, 7, 32)         0         \n",
            " 2D)                                                             \n",
            "                                                                 \n",
            " conv2d_2 (Conv2D)           (None, 7, 7, 64)          18496     \n",
            "                                                                 \n",
            " max_pooling2d_2 (MaxPooling  (None, 3, 3, 64)         0         \n",
            " 2D)                                                             \n",
            "                                                                 \n",
            " flatten (Flatten)           (None, 576)               0         \n",
            "                                                                 \n",
            " dense (Dense)               (None, 128)               73856     \n",
            "                                                                 \n",
            " dense_1 (Dense)             (None, 100)               12900     \n",
            "                                                                 \n",
            "=================================================================\n",
            "Total params: 110,052\n",
            "Trainable params: 110,052\n",
            "Non-trainable params: 0\n",
            "_________________________________________________________________\n",
            "None\n"
          ]
        },
        {
          "name": "stderr",
          "output_type": "stream",
          "text": [
            "/usr/local/lib/python3.7/dist-packages/keras/optimizer_v2/adam.py:105: UserWarning: The `lr` argument is deprecated, use `learning_rate` instead.\n",
            "  super(Adam, self).__init__(name, **kwargs)\n"
          ]
        }
      ],
      "source": [
        "model = keras.Sequential()\n",
        "\n",
        "model.add(layers.Convolution2D(16, (3, 3), padding='same', input_shape=X_train.shape[1:], activation='relu'))\n",
        "model.add(layers.MaxPooling2D(pool_size=(2, 2)))\n",
        "model.add(layers.Convolution2D(32, (3, 3), padding='same', activation= 'relu'))\n",
        "model.add(layers.MaxPooling2D(pool_size=(2, 2)))\n",
        "model.add(layers.Convolution2D(64, (3, 3), padding='same', activation= 'relu'))\n",
        "model.add(layers.MaxPooling2D(pool_size =(2,2)))\n",
        "model.add(layers.Flatten())\n",
        "model.add(layers.Dense(128, activation='relu'))\n",
        "model.add(layers.Dense(len(class_names), activation='softmax')) \n",
        "\n",
        "opt = tf.keras.optimizers.Adam(lr=0.001)\n",
        "model.compile(loss='categorical_crossentropy',\n",
        "              optimizer=opt,\n",
        "              metrics=['top_k_categorical_accuracy'])\n",
        "print(model.summary())"
      ]
    },
    {
      "cell_type": "markdown",
      "metadata": {
        "id": "Gdotnt7vsJCf"
      },
      "source": [
        "### Training the model"
      ]
    },
    {
      "cell_type": "code",
      "execution_count": 14,
      "metadata": {
        "colab": {
          "base_uri": "https://localhost:8080/"
        },
        "id": "lIIFyYZbG81y",
        "outputId": "5d19446d-b1ce-4ea7-ea84-0a83046a0749"
      },
      "outputs": [
        {
          "name": "stdout",
          "output_type": "stream",
          "text": [
            "Epoch 1/10\n",
            "3769/3769 [==============================] - 321s 85ms/step - loss: 1.3616 - top_k_categorical_accuracy: 0.8691 - val_loss: 1.0163 - val_top_k_categorical_accuracy: 0.9172\n",
            "Epoch 2/10\n",
            "3769/3769 [==============================] - 310s 82ms/step - loss: 0.9309 - top_k_categorical_accuracy: 0.9253 - val_loss: 0.8925 - val_top_k_categorical_accuracy: 0.9296\n",
            "Epoch 3/10\n",
            "3769/3769 [==============================] - 307s 81ms/step - loss: 0.8422 - top_k_categorical_accuracy: 0.9340 - val_loss: 0.8320 - val_top_k_categorical_accuracy: 0.9348\n",
            "Epoch 4/10\n",
            "3769/3769 [==============================] - 311s 83ms/step - loss: 0.7957 - top_k_categorical_accuracy: 0.9383 - val_loss: 0.8134 - val_top_k_categorical_accuracy: 0.9369\n",
            "Epoch 5/10\n",
            "3769/3769 [==============================] - 302s 80ms/step - loss: 0.7653 - top_k_categorical_accuracy: 0.9410 - val_loss: 0.7940 - val_top_k_categorical_accuracy: 0.9382\n",
            "Epoch 6/10\n",
            "3769/3769 [==============================] - 301s 80ms/step - loss: 0.7438 - top_k_categorical_accuracy: 0.9430 - val_loss: 0.7796 - val_top_k_categorical_accuracy: 0.9399\n",
            "Epoch 7/10\n",
            "3769/3769 [==============================] - 304s 81ms/step - loss: 0.7265 - top_k_categorical_accuracy: 0.9446 - val_loss: 0.7624 - val_top_k_categorical_accuracy: 0.9409\n",
            "Epoch 8/10\n",
            "3769/3769 [==============================] - 303s 80ms/step - loss: 0.7122 - top_k_categorical_accuracy: 0.9459 - val_loss: 0.7489 - val_top_k_categorical_accuracy: 0.9419\n",
            "Epoch 9/10\n",
            "3769/3769 [==============================] - 304s 81ms/step - loss: 0.7012 - top_k_categorical_accuracy: 0.9470 - val_loss: 0.7559 - val_top_k_categorical_accuracy: 0.9426\n",
            "Epoch 10/10\n",
            "3769/3769 [==============================] - 308s 82ms/step - loss: 0.6919 - top_k_categorical_accuracy: 0.9476 - val_loss: 0.7419 - val_top_k_categorical_accuracy: 0.9427\n"
          ]
        },
        {
          "data": {
            "text/plain": [
              "<keras.callbacks.History at 0x7fc1f7652810>"
            ]
          },
          "execution_count": 14,
          "metadata": {},
          "output_type": "execute_result"
        }
      ],
      "source": [
        "model.fit(x = X_train, y = y_train, validation_split=0.1, batch_size = 256, verbose=1, epochs=10)"
      ]
    },
    {
      "cell_type": "markdown",
      "metadata": {
        "id": "rxYH9F0peUYA"
      },
      "source": [
        "## Save the trained model"
      ]
    },
    {
      "cell_type": "code",
      "execution_count": null,
      "metadata": {
        "id": "u0CrQiDcHrvY"
      },
      "outputs": [],
      "source": [
        "model.save('trained_model.h5')"
      ]
    },
    {
      "cell_type": "markdown",
      "metadata": {
        "id": "rusx6Ap7eUX_"
      },
      "source": [
        "## Evaluation"
      ]
    },
    {
      "cell_type": "markdown",
      "metadata": {
        "id": "dinIcz_qeUX_"
      },
      "source": [
        "### Evaluate Test Score"
      ]
    },
    {
      "cell_type": "code",
      "execution_count": 15,
      "metadata": {
        "colab": {
          "base_uri": "https://localhost:8080/"
        },
        "id": "tGz1C7ILHMG2",
        "outputId": "11834d6d-5d44-4d86-a28e-ca52b626d6be"
      },
      "outputs": [
        {
          "name": "stdout",
          "output_type": "stream",
          "text": [
            "Test accuarcy: 94.35%\n"
          ]
        }
      ],
      "source": [
        "score = model.evaluate(X_test, y_test, verbose=0)\n",
        "print(f'Test accuracy: {score[1] * 100}')"
      ]
    },
    {
      "cell_type": "markdown",
      "metadata": {
        "id": "t9kBq83g9WNT"
      },
      "source": [
        "### Random test image and predicted class"
      ]
    },
    {
      "cell_type": "code",
      "execution_count": 25,
      "metadata": {
        "colab": {
          "base_uri": "https://localhost:8080/",
          "height": 282
        },
        "id": "hrKVB4dyHTi_",
        "outputId": "ab4defd8-223c-468a-fa7a-6da9c3d23dbe"
      },
      "outputs": [
        {
          "name": "stdout",
          "output_type": "stream",
          "text": [
            "['camera', 'radio', 'alarm_clock', 'diving_board', 'power_outlet']\n"
          ]
        },
        {
          "data": {
            "image/png": "[encoded data removed]",
            "text/plain": [
              "<Figure size 432x288 with 1 Axes>"
            ]
          },
          "metadata": {
            "needs_background": "light"
          },
          "output_type": "display_data"
        }
      ],
      "source": [
        "%matplotlib inline  \n",
        "idx = randint(0, len(X_test))\n",
        "img = X_test[idx]\n",
        "plt.imshow(img.squeeze(), cmap='Greys_r') \n",
        "pred = model.predict(np.expand_dims(img, axis=0))[0]\n",
        "ind = (-pred).argsort()[:5]\n",
        "latex = [class_names[x] for x in ind]\n",
        "print(latex)"
      ]
    }
  ],
  "metadata": {
    "colab": {
      "collapsed_sections": [],
      "machine_shape": "hm",
      "name": "ScribbleNet.ipynb",
      "provenance": []
    },
    "kernelspec": {
      "display_name": "Python 3",
      "language": "python",
      "name": "python3"
    },
    "language_info": {
      "codemirror_mode": {
        "name": "ipython",
        "version": 3
      },
      "file_extension": ".py",
      "mimetype": "text/x-python",
      "name": "python",
      "nbconvert_exporter": "python",
      "pygments_lexer": "ipython3",
      "version": "3.9.9"
    }
  },
  "nbformat": 4,
  "nbformat_minor": 0
}
